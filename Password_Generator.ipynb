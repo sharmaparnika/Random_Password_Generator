{
  "nbformat": 4,
  "nbformat_minor": 0,
  "metadata": {
    "colab": {
      "name": "Password_Generator.ipynb",
      "provenance": [],
      "authorship_tag": "ABX9TyOPok0FsNIGNsKJ5ZvI5pyz",
      "include_colab_link": true
    },
    "kernelspec": {
      "name": "python3",
      "display_name": "Python 3"
    },
    "language_info": {
      "name": "python"
    }
  },
  "cells": [
    {
      "cell_type": "markdown",
      "metadata": {
        "id": "view-in-github",
        "colab_type": "text"
      },
      "source": [
        "<a href=\"https://colab.research.google.com/github/sharmaparnika/Random_Password_Generator/blob/main/Password_Generator.ipynb\" target=\"_parent\"><img src=\"https://colab.research.google.com/assets/colab-badge.svg\" alt=\"Open In Colab\"/></a>"
      ]
    },
    {
      "cell_type": "code",
      "execution_count": 6,
      "metadata": {
        "colab": {
          "base_uri": "https://localhost:8080/"
        },
        "id": "uqNNXp04EX7Q",
        "outputId": "7a103d71-6cb9-4bc1-c763-094acf71bcba"
      },
      "outputs": [
        {
          "output_type": "stream",
          "name": "stdout",
          "text": [
            "How many passwords do you want to generate? 2\n",
            "Generating 2 passwords\n",
            "Minimum length of password should be 3\n",
            "Enter the length of Password #1 5\n",
            "Enter the length of Password #2 8\n",
            "Password #1 = x1esB\n",
            "Password #2 = m5ljyAwh\n"
          ]
        }
      ],
      "source": [
        "import random\n",
        "\n",
        "def generatePassword(pwlength):\n",
        "\n",
        "    alphabet = \"abcdefghijklmnopqrstuvwxyz\"\n",
        "\n",
        "    passwords = [] \n",
        "\n",
        "    for i in pwlength:\n",
        "        \n",
        "        password = \"\" \n",
        "        for j in range(i):\n",
        "            next_letter_index = random.randrange(len(alphabet))\n",
        "            password = password + alphabet[next_letter_index]\n",
        "        \n",
        "        password = replaceWithNumber(password)\n",
        "        password = replaceWithUppercaseLetter(password)\n",
        "        \n",
        "        passwords.append(password) \n",
        "    \n",
        "    return passwords\n",
        "\n",
        "\n",
        "def replaceWithNumber(pword):\n",
        "    for i in range(random.randrange(1,3)):\n",
        "        replace_index = random.randrange(len(pword)//2)\n",
        "        pword = pword[0:replace_index] + str(random.randrange(10)) + pword[replace_index+1:]\n",
        "        return pword\n",
        "\n",
        "\n",
        "def replaceWithUppercaseLetter(pword):\n",
        "    for i in range(random.randrange(1,3)):\n",
        "        replace_index = random.randrange(len(pword)//2,len(pword))\n",
        "        pword = pword[0:replace_index] + pword[replace_index].upper() + pword[replace_index+1:]\n",
        "        return pword\n",
        "\n",
        "def main():\n",
        "    \n",
        "    numPasswords = int(input(\"How many passwords do you want to generate? \"))\n",
        "    \n",
        "    print(\"Generating \" +str(numPasswords)+\" passwords\")\n",
        "    \n",
        "    passwordLengths = []\n",
        "\n",
        "    print(\"Minimum length of password should be 3\")\n",
        "\n",
        "    for i in range(numPasswords):\n",
        "        length = int(input(\"Enter the length of Password #\" + str(i+1) + \" \"))\n",
        "        if length<3:\n",
        "            length = 3\n",
        "        passwordLengths.append(length)\n",
        "    \n",
        "    \n",
        "    Password = generatePassword(passwordLengths)\n",
        "\n",
        "    for i in range(numPasswords):\n",
        "        print (\"Password #\"+str(i+1)+\" = \" + Password[i])\n",
        "\n",
        "\n",
        "\n",
        "main()"
      ]
    }
  ]
}